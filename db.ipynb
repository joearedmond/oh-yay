{
 "cells": [
  {
   "cell_type": "code",
   "execution_count": 1,
   "metadata": {},
   "outputs": [],
   "source": [
    "from dotenv import load_dotenv\n",
    "import os\n",
    "load_dotenv()"
   ]
  },
  {
   "cell_type": "markdown",
   "metadata": {},
   "source": [
    "Using selenium to log in:"
   ]
  },
  {
   "cell_type": "code",
   "execution_count": 2,
   "metadata": {},
   "outputs": [],
   "source": [
    "from selenium import webdriver"
   ]
  },
  {
   "cell_type": "code",
   "execution_count": 3,
   "metadata": {},
   "outputs": [],
   "source": [
    "class DataLoader():\n",
    "    def __init__(self, url_prefix: str):\n",
    "        self.driver = webdriver.Chrome()\n",
    "        self.url_prefix = url_prefix\n",
    "        self.username = os.environ['USERNAME']\n",
    "        self.password = os.environ['PASSWORD']\n",
    "    \n",
    "    def __enter__(self):\n",
    "        return self\n",
    "    \n",
    "    def __exit__(self, type, value, traceback):\n",
    "        self.driver.close()\n",
    "    \n",
    "    def login(self):\n",
    "        self.driver.get(f\"{self.url_prefix}/login\")\n",
    "        self.driver.find_element(by=\"id\", value=\"loginName\").send_keys(self.username)\n",
    "        self.driver.find_element(value=\"submit\").click()\n",
    "        self.driver.find_element(value=\"password\").send_keys(self.password)\n",
    "        self.driver.find_element(value=\"submit\").click()\n",
    "    \n",
    "    def get_html(self, suffix: str) -> str:\n",
    "        self.driver.get(f\"{self.url_prefix}/{suffix}\")\n",
    "        return self.driver.page_source"
   ]
  },
  {
   "cell_type": "code",
   "execution_count": null,
   "metadata": {},
   "outputs": [],
   "source": [
    "url_suffix = os.environ[\"URL_SUFFIX_TEST\"]\n",
    "\n",
    "with DataLoader(url_prefix=os.environ[\"URL_PREFIX\"]) as session:\n",
    "    session.login()\n",
    "    html = session.get_html(url_suffix)"
   ]
  },
  {
   "cell_type": "code",
   "execution_count": null,
   "metadata": {},
   "outputs": [],
   "source": []
  }
 ],
 "metadata": {
  "kernelspec": {
   "display_name": "oh-yay-GtR3mSiW-py3.12",
   "language": "python",
   "name": "python3"
  },
  "language_info": {
   "codemirror_mode": {
    "name": "ipython",
    "version": 3
   },
   "file_extension": ".py",
   "mimetype": "text/x-python",
   "name": "python",
   "nbconvert_exporter": "python",
   "pygments_lexer": "ipython3",
   "version": "3.12.3"
  }
 },
 "nbformat": 4,
 "nbformat_minor": 2
}
