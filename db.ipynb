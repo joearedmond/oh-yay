{
 "cells": [
  {
   "cell_type": "code",
   "execution_count": 2,
   "metadata": {},
   "outputs": [
    {
     "data": {
      "text/plain": [
       "True"
      ]
     },
     "execution_count": 2,
     "metadata": {},
     "output_type": "execute_result"
    }
   ],
   "source": [
    "from dotenv import load_dotenv\n",
    "import os\n",
    "load_dotenv(override=True)"
   ]
  },
  {
   "cell_type": "markdown",
   "metadata": {},
   "source": [
    "Using selenium to log in:"
   ]
  },
  {
   "cell_type": "code",
   "execution_count": 1,
   "metadata": {},
   "outputs": [],
   "source": [
    "from selenium import webdriver\n",
    "from bs4 import BeautifulSoup"
   ]
  },
  {
   "cell_type": "code",
   "execution_count": 10,
   "metadata": {},
   "outputs": [],
   "source": [
    "class DataLoader():\n",
    "    def __init__(self, url_prefix: str):\n",
    "        self.driver = webdriver.Chrome()\n",
    "        self.url_prefix = url_prefix\n",
    "        self.username = os.environ['USERNAME']\n",
    "        self.password = os.environ['PASSWORD']\n",
    "    \n",
    "    def __enter__(self):\n",
    "        return self\n",
    "    \n",
    "    def __exit__(self, type, value, traceback):\n",
    "        self.driver.close()\n",
    "    \n",
    "    def login(self):\n",
    "        self.driver.get(f\"{self.url_prefix}/login\")\n",
    "        self.driver.find_element(by=\"id\", value=\"loginName\").send_keys(self.username)\n",
    "        self.driver.find_element(value=\"submit\").click()\n",
    "        self.driver.find_element(value=\"password\").send_keys(self.password)\n",
    "        self.driver.find_element(value=\"submit\").click()\n",
    "\n",
    "    @staticmethod\n",
    "    def preprocess(text: str) -> str:\n",
    "        text = text.replace(u'\\xa0', u' ')\n",
    "        text = text.strip()\n",
    "        return text\n",
    "    \n",
    "    def get_html(self, url_suffix: str) -> str:\n",
    "        self.driver.get(f\"{self.url_prefix}/{url_suffix}\")\n",
    "        return self.driver.page_source\n",
    "    \n",
    "    def get_page_data(self, url_suffix: str) -> str:\n",
    "        html = self.get_html(url_suffix)\n",
    "        soup = BeautifulSoup(html)\n",
    "        title = soup.find(\"h1\").get_text()\n",
    "        contents = [paragraph.get_text() for paragraph in soup.find_all(\"p\")]  # TODO: filter out non-content paragraphs\n",
    "        contents.insert(0, title)\n",
    "        return \"\\n\\n\".join([self.preprocess(text) for text in contents])"
   ]
  },
  {
   "cell_type": "code",
   "execution_count": 11,
   "metadata": {},
   "outputs": [],
   "source": [
    "session = DataLoader(url_prefix=os.environ[\"URL_PREFIX\"])\n",
    "session.login()"
   ]
  },
  {
   "cell_type": "code",
   "execution_count": 12,
   "metadata": {},
   "outputs": [],
   "source": [
    "url_suffix = os.environ[\"URL_SUFFIX_TEST\"]\n",
    "page = session.get_page_data(url_suffix)"
   ]
  },
  {
   "cell_type": "code",
   "execution_count": null,
   "metadata": {},
   "outputs": [],
   "source": []
  }
 ],
 "metadata": {
  "kernelspec": {
   "display_name": "oh-yay-GtR3mSiW-py3.12",
   "language": "python",
   "name": "python3"
  },
  "language_info": {
   "codemirror_mode": {
    "name": "ipython",
    "version": 3
   },
   "file_extension": ".py",
   "mimetype": "text/x-python",
   "name": "python",
   "nbconvert_exporter": "python",
   "pygments_lexer": "ipython3",
   "version": "3.12.3"
  }
 },
 "nbformat": 4,
 "nbformat_minor": 2
}
